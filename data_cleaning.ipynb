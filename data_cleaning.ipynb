{
  "nbformat": 4,
  "nbformat_minor": 0,
  "metadata": {
    "colab": {
      "provenance": []
    },
    "kernelspec": {
      "name": "python3",
      "display_name": "Python 3"
    },
    "language_info": {
      "name": "python"
    }
  },
  "cells": [
    {
      "cell_type": "code",
      "execution_count": 1,
      "metadata": {
        "colab": {
          "base_uri": "https://localhost:8080/"
        },
        "id": "oI3bV1aBfEpU",
        "outputId": "acb8cb7c-1575-400f-e8c0-80da2fff1832"
      },
      "outputs": [
        {
          "output_type": "stream",
          "name": "stdout",
          "text": [
            "Requirement already satisfied: pandas in /usr/local/lib/python3.10/dist-packages (2.0.3)\n",
            "Requirement already satisfied: python-dateutil>=2.8.2 in /usr/local/lib/python3.10/dist-packages (from pandas) (2.8.2)\n",
            "Requirement already satisfied: pytz>=2020.1 in /usr/local/lib/python3.10/dist-packages (from pandas) (2023.4)\n",
            "Requirement already satisfied: tzdata>=2022.1 in /usr/local/lib/python3.10/dist-packages (from pandas) (2024.1)\n",
            "Requirement already satisfied: numpy>=1.21.0 in /usr/local/lib/python3.10/dist-packages (from pandas) (1.25.2)\n",
            "Requirement already satisfied: six>=1.5 in /usr/local/lib/python3.10/dist-packages (from python-dateutil>=2.8.2->pandas) (1.16.0)\n"
          ]
        }
      ],
      "source": [
        "!pip install pandas"
      ]
    },
    {
      "cell_type": "code",
      "source": [
        "import pandas as pd\n",
        "\n",
        "def clean_and_preprocess(df):\n",
        "    df.columns = df.columns.str.strip().str.replace(' ', '_').str.lower()\n",
        "\n",
        "    numerical_features = ['math_score', 'reading_score', 'writing_score']\n",
        "    df[numerical_features] = df[numerical_features].fillna(df[numerical_features].mean())\n",
        "\n",
        "    categorical_features = ['gender', 'race/ethnicity', 'parental_level_of_education', 'lunch', 'test_preparation_course']\n",
        "\n",
        "    df[categorical_features] = df[categorical_features].apply(lambda x: x.fillna(x.mode()[0]))\n",
        "\n",
        "    df[numerical_features] = (df[numerical_features] - df[numerical_features].mean()) / df[numerical_features].std()\n",
        "    df = pd.get_dummies(df, columns=categorical_features, drop_first=True)\n",
        "    return df\n",
        "\n",
        "\n",
        "file_path = 'StudentsPerformance.csv'\n",
        "data = pd.read_csv(file_path)\n",
        "new_data = clean_and_preprocess(data)\n",
        "\n",
        "print(new_data.head())\n"
      ],
      "metadata": {
        "colab": {
          "base_uri": "https://localhost:8080/"
        },
        "id": "zB56M_AdfOFO",
        "outputId": "1322b53d-ce01-4f83-93d8-3338085ca65f"
      },
      "execution_count": 2,
      "outputs": [
        {
          "output_type": "stream",
          "name": "stdout",
          "text": [
            "   math_score  reading_score  writing_score  gender_male  \\\n",
            "0    0.389828       0.193902       0.391296        False   \n",
            "1    0.191979       1.426762       1.312612        False   \n",
            "2    1.576922       1.769223       1.641653        False   \n",
            "3   -1.258913      -0.833482      -1.582952         True   \n",
            "4    0.653627       0.604855       0.457104         True   \n",
            "\n",
            "   race/ethnicity_group B  race/ethnicity_group C  race/ethnicity_group D  \\\n",
            "0                    True                   False                   False   \n",
            "1                   False                    True                   False   \n",
            "2                    True                   False                   False   \n",
            "3                   False                   False                   False   \n",
            "4                   False                    True                   False   \n",
            "\n",
            "   race/ethnicity_group E  parental_level_of_education_bachelor's degree  \\\n",
            "0                   False                                           True   \n",
            "1                   False                                          False   \n",
            "2                   False                                          False   \n",
            "3                   False                                          False   \n",
            "4                   False                                          False   \n",
            "\n",
            "   parental_level_of_education_high school  \\\n",
            "0                                    False   \n",
            "1                                    False   \n",
            "2                                    False   \n",
            "3                                    False   \n",
            "4                                    False   \n",
            "\n",
            "   parental_level_of_education_master's degree  \\\n",
            "0                                        False   \n",
            "1                                        False   \n",
            "2                                         True   \n",
            "3                                        False   \n",
            "4                                        False   \n",
            "\n",
            "   parental_level_of_education_some college  \\\n",
            "0                                     False   \n",
            "1                                      True   \n",
            "2                                     False   \n",
            "3                                     False   \n",
            "4                                      True   \n",
            "\n",
            "   parental_level_of_education_some high school  lunch_standard  \\\n",
            "0                                         False            True   \n",
            "1                                         False            True   \n",
            "2                                         False            True   \n",
            "3                                         False           False   \n",
            "4                                         False            True   \n",
            "\n",
            "   test_preparation_course_none  \n",
            "0                          True  \n",
            "1                         False  \n",
            "2                          True  \n",
            "3                          True  \n",
            "4                          True  \n"
          ]
        }
      ]
    },
    {
      "cell_type": "code",
      "source": [
        "cleaned_data.to_csv('s.csv',index=False)"
      ],
      "metadata": {
        "id": "3C4V6RY1fvB_"
      },
      "execution_count": 12,
      "outputs": []
    }
  ]
}